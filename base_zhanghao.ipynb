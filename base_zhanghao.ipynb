{
 "cells": [
  {
   "cell_type": "code",
   "execution_count": 50,
   "metadata": {
    "ExecuteTime": {
     "end_time": "2019-09-05T12:46:10.082284Z",
     "start_time": "2019-09-05T12:46:10.077299Z"
    }
   },
   "outputs": [],
   "source": [
    "from sklearn.model_selection import StratifiedKFold\n",
    "from sklearn.metrics import accuracy_score\n",
    "import pandas as pd\n",
    "import lightgbm as lgb\n",
    "import matplotlib.pyplot as plt\n",
    "import warnings\n",
    "warnings.filterwarnings(\"ignore\")"
   ]
  },
  {
   "cell_type": "code",
   "execution_count": 51,
   "metadata": {
    "ExecuteTime": {
     "end_time": "2019-09-05T12:46:29.307033Z",
     "start_time": "2019-09-05T12:46:29.235174Z"
    }
   },
   "outputs": [],
   "source": [
    "train = pd.read_csv('data/first_round_training_data.csv')\n",
    "test = pd.read_csv('data/first_round_testing_data.csv')\n",
    "submit = pd.read_csv('data/submit_example.csv')\n",
    "\n",
    "dic = {'Excellent': 0, 'Good': 1, 'Pass': 2, 'Fail': 3}\n",
    "train['label'] = train['Quality_label'].map(dic)\n",
    "\n",
    "feathers_p = [\"Parameter\"+str(i) for i in range(1, 11)]\n",
    "X = train[feathers_p]\n",
    "Y = train[\"label\"]\n",
    "test_x = test[feathers_p]"
   ]
  },
  {
   "cell_type": "code",
   "execution_count": 52,
   "metadata": {
    "ExecuteTime": {
     "end_time": "2019-09-05T12:46:45.995285Z",
     "start_time": "2019-09-05T12:46:31.886447Z"
    },
    "scrolled": true
   },
   "outputs": [
    {
     "name": "stdout",
     "output_type": "stream",
     "text": [
      "Training until validation scores don't improve for 100 rounds.\n",
      "[100]\tvalid_0's multi_logloss: 1.15943\n",
      "[200]\tvalid_0's multi_logloss: 1.12009\n",
      "[300]\tvalid_0's multi_logloss: 1.1108\n",
      "[400]\tvalid_0's multi_logloss: 1.10877\n",
      "Early stopping, best iteration is:\n",
      "[390]\tvalid_0's multi_logloss: 1.10859\n",
      "Training until validation scores don't improve for 100 rounds.\n",
      "[100]\tvalid_0's multi_logloss: 1.17409\n",
      "[200]\tvalid_0's multi_logloss: 1.13803\n",
      "[300]\tvalid_0's multi_logloss: 1.12828\n",
      "[400]\tvalid_0's multi_logloss: 1.12573\n",
      "Early stopping, best iteration is:\n",
      "[395]\tvalid_0's multi_logloss: 1.1257\n",
      "Training until validation scores don't improve for 100 rounds.\n",
      "[100]\tvalid_0's multi_logloss: 1.16293\n",
      "[200]\tvalid_0's multi_logloss: 1.1261\n",
      "[300]\tvalid_0's multi_logloss: 1.11597\n",
      "[400]\tvalid_0's multi_logloss: 1.11417\n",
      "[500]\tvalid_0's multi_logloss: 1.11225\n",
      "Early stopping, best iteration is:\n",
      "[470]\tvalid_0's multi_logloss: 1.11192\n",
      "Training until validation scores don't improve for 100 rounds.\n",
      "[100]\tvalid_0's multi_logloss: 1.15748\n",
      "[200]\tvalid_0's multi_logloss: 1.11755\n",
      "[300]\tvalid_0's multi_logloss: 1.10526\n",
      "[400]\tvalid_0's multi_logloss: 1.10186\n",
      "[500]\tvalid_0's multi_logloss: 1.10191\n",
      "Early stopping, best iteration is:\n",
      "[410]\tvalid_0's multi_logloss: 1.10171\n",
      "Training until validation scores don't improve for 100 rounds.\n",
      "[100]\tvalid_0's multi_logloss: 1.14888\n",
      "[200]\tvalid_0's multi_logloss: 1.10554\n",
      "[300]\tvalid_0's multi_logloss: 1.09377\n",
      "[400]\tvalid_0's multi_logloss: 1.09193\n",
      "Early stopping, best iteration is:\n",
      "[386]\tvalid_0's multi_logloss: 1.09168\n",
      "acc: 0.5158333333333334\n"
     ]
    }
   ],
   "source": [
    "pred = np.zeros((X.shape[0], 4))\n",
    "pred_test = np.zeros((test_x.shape[0], 4))\n",
    "skf = StratifiedKFold(n_splits=5, random_state=2019, shuffle=True)\n",
    "for i, (train_index, valid_index) in enumerate(skf.split(X, Y)):\n",
    "    train_x, valid_x, train_y, valid_y = X.iloc[train_index], X.iloc[valid_index], Y.iloc[train_index], Y.iloc[valid_index]\n",
    "    train_data = lgb.Dataset(train_x, label=train_y)\n",
    "    valid_data = lgb.Dataset(valid_x, label=valid_y)\n",
    "    params = {\n",
    "        'learning_rate': 0.01,\n",
    "        'boosting_type': 'gbdt',\n",
    "        'objective': 'multiclass',\n",
    "        'num_class': 4,\n",
    "        'metric': 'multi_logloss',\n",
    "        'max_depth': 6,\n",
    "        'num_leaves': 50,\n",
    "        'num_threads': -1\n",
    "    }\n",
    "    lgbmodel = lgb.train(params, train_data, valid_sets=[valid_data], num_boost_round=5000, verbose_eval=100,\n",
    "                         early_stopping_rounds=100)\n",
    "    pred[valid_index] = lgbmodel.predict(valid_x)\n",
    "    pred_test += lgbmodel.predict(test_x) / 5\n",
    "print('acc:', accuracy_score(Y, np.argmax(pred, axis=1)))"
   ]
  },
  {
   "cell_type": "code",
   "execution_count": 53,
   "metadata": {
    "ExecuteTime": {
     "end_time": "2019-09-05T12:46:59.976713Z",
     "start_time": "2019-09-05T12:46:59.963751Z"
    }
   },
   "outputs": [],
   "source": [
    "res_cols = [i for i in submit.columns if i not in ['Group']]\n",
    "temp = pd.DataFrame(pred_test,columns=res_cols)\n",
    "temp['Group'] = test['Group']\n",
    "result = temp.groupby('Group').mean()\n",
    "\n",
    "import datetime\n",
    "curtime = datetime.datetime.now().strftime('%m-%d')\n",
    "result.to_csv(\"result-\"+curtime+\".csv\",index=True)"
   ]
  },
  {
   "cell_type": "code",
   "execution_count": null,
   "metadata": {},
   "outputs": [],
   "source": []
  }
 ],
 "metadata": {
  "kernelspec": {
   "display_name": "Python 3",
   "language": "python",
   "name": "python3"
  },
  "language_info": {
   "codemirror_mode": {
    "name": "ipython",
    "version": 3
   },
   "file_extension": ".py",
   "mimetype": "text/x-python",
   "name": "python",
   "nbconvert_exporter": "python",
   "pygments_lexer": "ipython3",
   "version": "3.6.8"
  },
  "toc": {
   "base_numbering": 1,
   "nav_menu": {},
   "number_sections": true,
   "sideBar": true,
   "skip_h1_title": false,
   "title_cell": "Table of Contents",
   "title_sidebar": "Contents",
   "toc_cell": false,
   "toc_position": {},
   "toc_section_display": true,
   "toc_window_display": false
  },
  "varInspector": {
   "cols": {
    "lenName": 16,
    "lenType": 16,
    "lenVar": 40
   },
   "kernels_config": {
    "python": {
     "delete_cmd_postfix": "",
     "delete_cmd_prefix": "del ",
     "library": "var_list.py",
     "varRefreshCmd": "print(var_dic_list())"
    },
    "r": {
     "delete_cmd_postfix": ") ",
     "delete_cmd_prefix": "rm(",
     "library": "var_list.r",
     "varRefreshCmd": "cat(var_dic_list()) "
    }
   },
   "types_to_exclude": [
    "module",
    "function",
    "builtin_function_or_method",
    "instance",
    "_Feature"
   ],
   "window_display": false
  }
 },
 "nbformat": 4,
 "nbformat_minor": 2
}
